{
 "cells": [
  {
   "cell_type": "code",
   "execution_count": 27,
   "metadata": {},
   "outputs": [],
   "source": [
    "import pandas as pd\n",
    "import matplotlib as mpl\n",
    "import matplotlib.pyplot as plt"
   ]
  },
  {
   "cell_type": "markdown",
   "metadata": {},
   "source": [
    "# 用户信息和实验开始时间处理"
   ]
  },
  {
   "cell_type": "code",
   "execution_count": 53,
   "metadata": {},
   "outputs": [],
   "source": [
    "user_d = {\n",
    "    \"name\": \"shenli\",\n",
    "    \"id\": \"1234\",\n",
    "    \"cond\": \"1\",\n",
    "    \"s1\":\"2018-06-19 17:08:20.954925 \",\n",
    "    \"s2\":\"2018-06-19 17:08:21.004925\",\n",
    "    \"s3\":\"2018-06-19 17:10:54.060925 \",\n",
    "    \"s4\":\"2018-06-19 17:10:54.110925\",\n",
    "}"
   ]
  },
  {
   "cell_type": "code",
   "execution_count": null,
   "metadata": {},
   "outputs": [],
   "source": [
    "\n",
    "\n",
    "\n",
    "2018-06-22 10:33:38.701380 \n",
    "\n",
    "2018-06-22 10:33:40.801380"
   ]
  },
  {
   "cell_type": "code",
   "execution_count": 1,
   "metadata": {},
   "outputs": [],
   "source": [
    "user_d = {\n",
    "    \"name\": \"jiangwanyue\",\n",
    "    \"id\": \"01\",\n",
    "    \"cond\": \"int\",\n",
    "    \"s1\":\"2018-06-22 10:14:17.610380\",\n",
    "    \"s2\":\"2018-06-22 10:14:21.760380\",\n",
    "    \"s3\":\"2018-06-22 10:33:38.701380\",\n",
    "    \"s4\":\"2018-06-22 10:33:40.801380\",\n",
    "}"
   ]
  },
  {
   "cell_type": "markdown",
   "metadata": {},
   "source": [
    "user_d[\"name\"] = input(\"Input name: ____\\b\\b\\b\\b\").strip()\n",
    "user_d[\"id\"] = input(\"Input id: ____\\b\\b\\b\\b\").strip()\n",
    "user_d[\"cond\"] = input(\"Input condition: ____\\b\\b\\b\\b\").strip()\n",
    "user_d[\"s1\"] = input(\"Input start time I: ________\\b\\b\\b\\b\").strip()\n",
    "user_d[\"s2\"] = input(\"Input start time II: ________\\b\\b\\b\\b\").strip()\n",
    "user_d[\"s3\"] = input(\"Input end time I: ________\\b\\b\\b\\b\").strip()\n",
    "user_d[\"s4\"] = input(\"Input end time II: ________\\b\\b\\b\\b\").strip()"
   ]
  },
  {
   "cell_type": "code",
   "execution_count": 2,
   "metadata": {},
   "outputs": [],
   "source": [
    "tim1 = user_d[\"s1\"].split(\" \")[1].split(\":\")\n",
    "tim2 = user_d[\"s2\"].split(\" \")[1].split(\":\")\n",
    "tim3 = user_d[\"s3\"].split(\" \")[1].split(\":\")\n",
    "tim4 = user_d[\"s4\"].split(\" \")[1].split(\":\")\n",
    "START_T = ((float(tim1[0])*60*60 + float(tim1[1])*60 + float(tim1[2]))+(float(tim2[0])*60*60 + float(tim2[1])*60 + float(tim2[2])))/2\n",
    "END_T = ((float(tim3[0])*60*60 + float(tim3[1])*60 + float(tim3[2]))+(float(tim4[0])*60*60 + float(tim4[1])*60 + float(tim4[2])))/2"
   ]
  },
  {
   "cell_type": "code",
   "execution_count": 3,
   "metadata": {},
   "outputs": [
    {
     "name": "stdout",
     "output_type": "stream",
     "text": [
      "========================================\n",
      "Confirm Input Data:\n",
      "\n",
      "name - jiangwanyue\n",
      "\n",
      "id - 01\n",
      "\n",
      "cond - int\n",
      "\n",
      "s1 - 2018-06-22 10:14:17.610380\n",
      "\n",
      "s2 - 2018-06-22 10:14:21.760380\n",
      "\n",
      "s3 - 2018-06-22 10:33:38.701380\n",
      "\n",
      "s4 - 2018-06-22 10:33:40.801380\n",
      "\n",
      "\n",
      "The exp start at:  36859.685379999995 ; End at:  38019.75138 \n",
      "\n",
      "========================================\n"
     ]
    }
   ],
   "source": [
    "print(\"=\"*40)\n",
    "print(\"Confirm Input Data:\\n\")\n",
    "for k in user_d:\n",
    "    print(\"%s - %s\\n\"%(k,user_d[k]))\n",
    "print(\"\\nThe exp start at: \",START_T,\"; End at: \",END_T,\"\\n\")\n",
    "print(\"=\"*40)"
   ]
  },
  {
   "cell_type": "markdown",
   "metadata": {},
   "source": [
    "# 导入传感器数据并换算"
   ]
  },
  {
   "cell_type": "code",
   "execution_count": 30,
   "metadata": {},
   "outputs": [],
   "source": [
    "print(\"\\nImport the Sensor Data:\\n\")\n",
    "f_d = [\"shenli_1234.log\"]\n",
    "f_d[0] = Input(\"Input the Sensor Data File like: shenli_1234.log\\n (only filename.filetype)___________\\b\\b\\b\\b\\b\\b\\b\")\n",
    "f = pd.read_table(f_d[0],sep=\" \",header=None,names=[\"time\",\"sensor1\",\"sensor2\",\"sensor3\",\"sensor4\",\"x\",\"y\",\"f\"])\n",
    "f.time = f.time/1000\n",
    "sensor_start_local_time = f.iloc[0].time\n",
    "f[\"real_time\"] = f.time - sensor_start_local_time + START_T"
   ]
  },
  {
   "cell_type": "code",
   "execution_count": 59,
   "metadata": {},
   "outputs": [
    {
     "name": "stdout",
     "output_type": "stream",
     "text": [
      "           time  sensor1  sensor2  sensor3  sensor4        x        y        f\n",
      "0  61700.979925  10.4136  7.41818  19.3993  17.5911 -2.19053  5.24202  54.8222\n",
      "1  61700.999925  10.4334  7.42848  19.3480  17.5504 -2.19254  5.21450  54.7602\n",
      "2  61701.003925  10.3839  7.27394  19.3890  17.5402 -2.27108  5.29557  54.5871\n",
      "3  61701.026925  10.4037  7.27394  19.4608  17.6115 -2.27355  5.31360  54.7500\n",
      "4  61701.055925  10.4136  7.34606  19.4608  17.5911 -2.25191  5.27961  54.8116\n"
     ]
    }
   ],
   "source": [
    "of = f.reindex(columns=\"real_time sensor1 sensor2 sensor3 sensor4 x y f\".split(\" \")).rename(columns={\"real_time\":\"time\"})\n",
    "print(\"\\nThis is the Sensor clear data:\\n\")\n",
    "print(of.head(),\"\\n\")"
   ]
  },
  {
   "cell_type": "markdown",
   "metadata": {},
   "source": [
    "# 导入实验数据并进行时间换算\n",
    "\n",
    "s 表格是 matlab 计算的数据，我们需要将这些从计算机开机的时间转换成我们定义的时间，a1点的时间为a1点出现时计算机开机时间，start_secs为a1点的日期，经过换算后对应的我们定义的时间（当天的秒数）。"
   ]
  },
  {
   "cell_type": "code",
   "execution_count": 32,
   "metadata": {},
   "outputs": [
    {
     "data": {
      "text/html": [
       "<div>\n",
       "<style scoped>\n",
       "    .dataframe tbody tr th:only-of-type {\n",
       "        vertical-align: middle;\n",
       "    }\n",
       "\n",
       "    .dataframe tbody tr th {\n",
       "        vertical-align: top;\n",
       "    }\n",
       "\n",
       "    .dataframe thead th {\n",
       "        text-align: right;\n",
       "    }\n",
       "</style>\n",
       "<table border=\"1\" class=\"dataframe\">\n",
       "  <thead>\n",
       "    <tr style=\"text-align: right;\">\n",
       "      <th></th>\n",
       "      <th>start_secs</th>\n",
       "      <th>a1</th>\n",
       "      <th>a2</th>\n",
       "      <th>b1</th>\n",
       "      <th>b2</th>\n",
       "      <th>c1</th>\n",
       "      <th>c2</th>\n",
       "      <th>d1</th>\n",
       "      <th>d2</th>\n",
       "      <th>e1</th>\n",
       "      <th>e2</th>\n",
       "    </tr>\n",
       "  </thead>\n",
       "  <tbody>\n",
       "    <tr>\n",
       "      <th>0</th>\n",
       "      <td>61707.113</td>\n",
       "      <td>12964.787902</td>\n",
       "      <td>12966.304499</td>\n",
       "      <td>12966.321164</td>\n",
       "      <td>12967.321098</td>\n",
       "      <td>12967.337734</td>\n",
       "      <td>12967.754398</td>\n",
       "      <td>12967.771072</td>\n",
       "      <td>12969.170963</td>\n",
       "      <td>12969.187766</td>\n",
       "      <td>12970.154216</td>\n",
       "    </tr>\n",
       "    <tr>\n",
       "      <th>1</th>\n",
       "      <td>61712.494</td>\n",
       "      <td>12970.170884</td>\n",
       "      <td>12971.287485</td>\n",
       "      <td>12971.304126</td>\n",
       "      <td>12972.304062</td>\n",
       "      <td>12972.320715</td>\n",
       "      <td>12972.837401</td>\n",
       "      <td>12972.854049</td>\n",
       "      <td>12973.670642</td>\n",
       "      <td>12973.687440</td>\n",
       "      <td>12974.487252</td>\n",
       "    </tr>\n",
       "    <tr>\n",
       "      <th>2</th>\n",
       "      <td>61716.826</td>\n",
       "      <td>12974.503897</td>\n",
       "      <td>12975.620506</td>\n",
       "      <td>12975.637138</td>\n",
       "      <td>12976.637101</td>\n",
       "      <td>12976.653725</td>\n",
       "      <td>12977.270419</td>\n",
       "      <td>12977.287062</td>\n",
       "      <td>12977.887028</td>\n",
       "      <td>12977.904009</td>\n",
       "      <td>12978.336988</td>\n",
       "    </tr>\n",
       "  </tbody>\n",
       "</table>\n",
       "</div>"
      ],
      "text/plain": [
       "   start_secs            a1            a2            b1            b2  \\\n",
       "0   61707.113  12964.787902  12966.304499  12966.321164  12967.321098   \n",
       "1   61712.494  12970.170884  12971.287485  12971.304126  12972.304062   \n",
       "2   61716.826  12974.503897  12975.620506  12975.637138  12976.637101   \n",
       "\n",
       "             c1            c2            d1            d2            e1  \\\n",
       "0  12967.337734  12967.754398  12967.771072  12969.170963  12969.187766   \n",
       "1  12972.320715  12972.837401  12972.854049  12973.670642  12973.687440   \n",
       "2  12976.653725  12977.270419  12977.287062  12977.887028  12977.904009   \n",
       "\n",
       "             e2  \n",
       "0  12970.154216  \n",
       "1  12974.487252  \n",
       "2  12978.336988  "
      ]
     },
     "execution_count": 32,
     "metadata": {},
     "output_type": "execute_result"
    }
   ],
   "source": [
    "print(\"\\nDealing with MATLAB Data\\n\")\n",
    "s_d = [\"shenli_1234_619.xlsx\"]\n",
    "s_d[0] = input(\"Input the MATLAB Datafile (like shenli_1234_619.xlsx , only filename but not filepath)\\n________\\b\\b\\b\\b\\b\\b\\b\")\n",
    "s = pd.read_excel(s_d[0],names=[\"year\",\"month\",\"day\",\"hour\",\"mint\",\"secs\",\"a1\",\"a2\",\"b1\",\"b2\",\"c1\",\"c2\",\"d1\",\"d2\",\"e1\",\"e2\"])\n",
    "s[\"start_secs\"] = s[\"hour\"]*60*60 + s[\"mint\"]*60 + s[\"secs\"]\n",
    "s = s.reindex(columns=[\"start_secs\",\"a1\",\"a2\",\"b1\",\"b2\",\"c1\",\"c2\",\"d1\",\"d2\",\"e1\",\"e2\"])\n",
    "print(\"The file looks like:\\n\",s.head(3))"
   ]
  },
  {
   "cell_type": "code",
   "execution_count": 33,
   "metadata": {},
   "outputs": [],
   "source": [
    "os = pd.DataFrame()\n",
    "for col in list(\"a1 a2 b1 b2 c1 c2 d1 d2 e1 e2\".split(\" \")):\n",
    "    os[col] = s[col] - s.a1 + s.start_secs"
   ]
  },
  {
   "cell_type": "markdown",
   "metadata": {},
   "source": [
    "os 表格表示的就是所有使用我们计时单位（当天的秒数）的时间"
   ]
  },
  {
   "cell_type": "code",
   "execution_count": 34,
   "metadata": {
    "scrolled": true
   },
   "outputs": [
    {
     "data": {
      "text/html": [
       "<div>\n",
       "<style scoped>\n",
       "    .dataframe tbody tr th:only-of-type {\n",
       "        vertical-align: middle;\n",
       "    }\n",
       "\n",
       "    .dataframe tbody tr th {\n",
       "        vertical-align: top;\n",
       "    }\n",
       "\n",
       "    .dataframe thead th {\n",
       "        text-align: right;\n",
       "    }\n",
       "</style>\n",
       "<table border=\"1\" class=\"dataframe\">\n",
       "  <thead>\n",
       "    <tr style=\"text-align: right;\">\n",
       "      <th></th>\n",
       "      <th>a1</th>\n",
       "      <th>a2</th>\n",
       "      <th>b1</th>\n",
       "      <th>b2</th>\n",
       "      <th>c1</th>\n",
       "      <th>c2</th>\n",
       "      <th>d1</th>\n",
       "      <th>d2</th>\n",
       "      <th>e1</th>\n",
       "      <th>e2</th>\n",
       "    </tr>\n",
       "  </thead>\n",
       "  <tbody>\n",
       "    <tr>\n",
       "      <th>0</th>\n",
       "      <td>61707.113</td>\n",
       "      <td>61708.629597</td>\n",
       "      <td>61708.646263</td>\n",
       "      <td>61709.646196</td>\n",
       "      <td>61709.662833</td>\n",
       "      <td>61710.079497</td>\n",
       "      <td>61710.096170</td>\n",
       "      <td>61711.496061</td>\n",
       "      <td>61711.512865</td>\n",
       "      <td>61712.479315</td>\n",
       "    </tr>\n",
       "    <tr>\n",
       "      <th>1</th>\n",
       "      <td>61712.494</td>\n",
       "      <td>61713.610600</td>\n",
       "      <td>61713.627242</td>\n",
       "      <td>61714.627178</td>\n",
       "      <td>61714.643831</td>\n",
       "      <td>61715.160517</td>\n",
       "      <td>61715.177165</td>\n",
       "      <td>61715.993757</td>\n",
       "      <td>61716.010555</td>\n",
       "      <td>61716.810368</td>\n",
       "    </tr>\n",
       "    <tr>\n",
       "      <th>2</th>\n",
       "      <td>61716.826</td>\n",
       "      <td>61717.942610</td>\n",
       "      <td>61717.959242</td>\n",
       "      <td>61718.959204</td>\n",
       "      <td>61718.975828</td>\n",
       "      <td>61719.592522</td>\n",
       "      <td>61719.609165</td>\n",
       "      <td>61720.209131</td>\n",
       "      <td>61720.226112</td>\n",
       "      <td>61720.659092</td>\n",
       "    </tr>\n",
       "    <tr>\n",
       "      <th>3</th>\n",
       "      <td>61720.680</td>\n",
       "      <td>61722.196587</td>\n",
       "      <td>61722.213234</td>\n",
       "      <td>61723.213124</td>\n",
       "      <td>61723.229828</td>\n",
       "      <td>61723.746473</td>\n",
       "      <td>61723.763146</td>\n",
       "      <td>61724.763066</td>\n",
       "      <td>61724.780269</td>\n",
       "      <td>61725.146373</td>\n",
       "    </tr>\n",
       "    <tr>\n",
       "      <th>4</th>\n",
       "      <td>61725.193</td>\n",
       "      <td>61726.509597</td>\n",
       "      <td>61726.526274</td>\n",
       "      <td>61727.526207</td>\n",
       "      <td>61727.542849</td>\n",
       "      <td>61728.159486</td>\n",
       "      <td>61728.176137</td>\n",
       "      <td>61729.776025</td>\n",
       "      <td>61729.792921</td>\n",
       "      <td>61730.076003</td>\n",
       "    </tr>\n",
       "  </tbody>\n",
       "</table>\n",
       "</div>"
      ],
      "text/plain": [
       "          a1            a2            b1            b2            c1  \\\n",
       "0  61707.113  61708.629597  61708.646263  61709.646196  61709.662833   \n",
       "1  61712.494  61713.610600  61713.627242  61714.627178  61714.643831   \n",
       "2  61716.826  61717.942610  61717.959242  61718.959204  61718.975828   \n",
       "3  61720.680  61722.196587  61722.213234  61723.213124  61723.229828   \n",
       "4  61725.193  61726.509597  61726.526274  61727.526207  61727.542849   \n",
       "\n",
       "             c2            d1            d2            e1            e2  \n",
       "0  61710.079497  61710.096170  61711.496061  61711.512865  61712.479315  \n",
       "1  61715.160517  61715.177165  61715.993757  61716.010555  61716.810368  \n",
       "2  61719.592522  61719.609165  61720.209131  61720.226112  61720.659092  \n",
       "3  61723.746473  61723.763146  61724.763066  61724.780269  61725.146373  \n",
       "4  61728.159486  61728.176137  61729.776025  61729.792921  61730.076003  "
      ]
     },
     "execution_count": 34,
     "metadata": {},
     "output_type": "execute_result"
    }
   ],
   "source": [
    "print(\"Clearning Data...\\n\")\n",
    "print(\"The Clear Data like this \\n\",os.head())"
   ]
  },
  {
   "cell_type": "markdown",
   "metadata": {},
   "source": [
    "# 数据对齐"
   ]
  },
  {
   "cell_type": "code",
   "execution_count": 44,
   "metadata": {
    "scrolled": true
   },
   "outputs": [
    {
     "name": "stdout",
     "output_type": "stream",
     "text": [
      "now is a1 , you may waiting for a long time...\n",
      "\n",
      "now is a2 , you may waiting for a long time...\n",
      "\n",
      "now is b1 , you may waiting for a long time...\n",
      "\n",
      "now is b2 , you may waiting for a long time...\n",
      "\n",
      "now is c1 , you may waiting for a long time...\n",
      "\n",
      "now is c2 , you may waiting for a long time...\n",
      "\n",
      "now is d1 , you may waiting for a long time...\n",
      "\n",
      "now is d2 , you may waiting for a long time...\n",
      "\n",
      "now is e1 , you may waiting for a long time...\n",
      "\n",
      "now is e2 , you may waiting for a long time...\n",
      "\n"
     ]
    }
   ],
   "source": [
    "print(\"=\"*40,\"\\nNow Dealing with Data Marge...\\n\")\n",
    "oos = os.copy()\n",
    "for current_alp in \"a1 a2 b1 b2 c1 c2 d1 d2 e1 e2\".split(\" \"):\n",
    "    for current_lab in \"similar_time sensor1 sensor2 sensor3 sensor4 x y f\".split(\" \"):\n",
    "        oos[current_alp+\"_\"+current_lab] = 0.00;\n",
    "#对于每一种条件进行遍历\n",
    "for current_alp in \"a1 a2 b1 b2 c1 c2 d1 d2 e1 e2\".split(\" \"):\n",
    "    print(\"[PROCESSING] Now is %s , you may waiting for a long time...\\n\"%current_alp)\n",
    "    #在每种条件的基础上，对每行数据进行遍历\n",
    "    for r in os.index:\n",
    "        #print(\"row now is %s\\n\"%r)\n",
    "        os_time = os[current_alp][r]\n",
    "        of_row = -1;\n",
    "        of_row_temp = -1;\n",
    "        #对于os的每一个单元格，遍历of查找最精确的数据\n",
    "        for m in of.index:\n",
    "            of_time = of[\"time\"][m]\n",
    "            if abs(of_time - os_time) < 0.1:\n",
    "                of_row_temp = m\n",
    "            if abs(of_time - os_time) < 0.01:\n",
    "                of_row = m\n",
    "                break;\n",
    "        if of_row == -1:\n",
    "            if of_row_temp == -1:\n",
    "                raise ValueError(\"没有匹配数据\")\n",
    "            else:\n",
    "                of_row = of_row_temp\n",
    "        #print(\"find the of_row is %s\\n\"%of_row)\n",
    "        for current_lab in \"sensor1 sensor2 sensor3 sensor4 x y f\".split(\" \"):\n",
    "            oos[current_alp+\"_\"+current_lab][r] = of[current_lab][of_row]\n",
    "        oos[current_alp+\"_similar_time\"][r] = of[\"time\"][of_row]\n",
    "    #break;#DEBUG"
   ]
  },
  {
   "cell_type": "code",
   "execution_count": 60,
   "metadata": {},
   "outputs": [
    {
     "name": "stdout",
     "output_type": "stream",
     "text": [
      "\n",
      "The data looks like this:\n",
      "            a1            a2            b1            b2            c1  \\\n",
      "0   61707.113  61708.629597  61708.646263  61709.646196  61709.662833   \n",
      "1   61712.494  61713.610600  61713.627242  61714.627178  61714.643831   \n",
      "2   61716.826  61717.942610  61717.959242  61718.959204  61718.975828   \n",
      "3   61720.680  61722.196587  61722.213234  61723.213124  61723.229828   \n",
      "4   61725.193  61726.509597  61726.526274  61727.526207  61727.542849   \n",
      "5   61730.092  61731.108634  61731.125264  61732.725157  61732.741792   \n",
      "6   61734.825  61736.341603  61736.358222  61737.358167  61737.374792   \n",
      "7   61739.310  61740.526610  61740.543273  61742.143048  61742.159812   \n",
      "8   61744.425  61745.841639  61745.858311  61746.258257  61746.274945   \n",
      "9   61748.958  61750.274597  61750.291244  61751.291204  61751.307834   \n",
      "10  61753.508  61754.524627  61754.541279  61755.541192  61755.557851   \n",
      "11  61758.057  61759.073651  61759.090326  61760.090258  61760.106894   \n",
      "12  61761.990  61763.206650  61763.223260  61764.623177  61764.639828   \n",
      "13  61766.423  61767.739590  61767.756239  61768.956168  61768.972817   \n",
      "14  61770.989  61772.005622  61772.022280  61773.022211  61773.038875   \n",
      "15  61775.273  61776.389668  61776.406315  61777.406261  61777.422904   \n",
      "16  61779.006  61780.022627  61780.039277  61781.039217  61781.055863   \n",
      "17  61782.622  61784.138591  61784.155236  61784.755150  61784.771838   \n",
      "18  61786.688  61787.804625  61787.821284  61788.821169  61788.837853   \n",
      "19  61802.155  61803.671576  61803.688235  61804.688171  61804.704841   \n",
      "\n",
      "              c2            d1            d2            e1            e2  \\\n",
      "0   61710.079497  61710.096170  61711.496061  61711.512865  61712.479315   \n",
      "1   61715.160517  61715.177165  61715.993757  61716.010555  61716.810368   \n",
      "2   61719.592522  61719.609165  61720.209131  61720.226112  61720.659092   \n",
      "3   61723.746473  61723.763146  61724.763066  61724.780269  61725.146373   \n",
      "4   61728.159486  61728.176137  61729.776025  61729.792921  61730.076003   \n",
      "5   61733.158472  61733.175140  61734.175059  61734.191833  61734.808355   \n",
      "6   61737.891487  61737.908091  61738.708054  61738.724796  61739.291355   \n",
      "7   61742.776451  61742.793107  61743.793054  61743.809871  61744.409679   \n",
      "8   61746.891557  61746.908203  61747.908132  61747.924892  61748.941389   \n",
      "9   61751.924485  61751.941125  61753.141064  61753.157888  61753.491042   \n",
      "10  61756.074492  61756.091165  61757.691057  61757.707823  61758.041040   \n",
      "11  61760.623575  61760.640184  61761.640136  61761.656894  61761.973457   \n",
      "12  61765.056488  61765.073135  61766.073080  61766.089926  61766.406377   \n",
      "13  61769.589460  61769.606121  61770.606060  61770.622822  61770.972697   \n",
      "14  61773.655510  61773.672169  61774.888734  61774.905539  61775.255409   \n",
      "15  61778.039564  61778.056211  61778.456188  61778.472937  61778.989471   \n",
      "16  61781.472512  61781.489172  61781.889160  61781.905903  61782.605762   \n",
      "17  61785.288538  61785.305141  61786.305085  61786.321847  61786.671737   \n",
      "18  61789.254536  61789.271183  61789.871144  61789.887882  61790.521105   \n",
      "19  61805.321474  61805.338117  61806.338039  61806.354809  61806.854692   \n",
      "\n",
      "     ...         e1_y     e1_f  e2_similar_time  e2_sensor1  e2_sensor2  \\\n",
      "0    ...    -1.971120  53.9752     61712.476925    14.61660    15.91820   \n",
      "1    ...    -1.518830  53.9578     61716.802925    14.06280    15.32060   \n",
      "2    ...    -0.975317  53.9571     61720.652925    13.81560    14.84670   \n",
      "3    ...    -0.895149  54.2168     61725.136925    13.74640    14.85700   \n",
      "4    ...    -0.793743  53.8949     61730.077925    13.54860    14.79520   \n",
      "5    ...    -0.575252  53.9001     61734.814925    13.32110    14.87760   \n",
      "6    ...    -0.503512  53.8824     61739.294925    13.16290    14.60970   \n",
      "7    ...    -0.216197  53.8923     61744.408925    12.79700    14.64060   \n",
      "8    ...     5.445050  53.8607     61748.944925     8.59395     8.48970   \n",
      "9    ...     6.067280  53.9989     61753.483925     7.88191     8.07758   \n",
      "10   ...     6.078320  54.1586     61758.045925     8.00058     8.18061   \n",
      "11   ...     6.015800  54.1148     61761.971925     7.88191     8.38667   \n",
      "12   ...     5.986840  54.0437     61766.404925     7.90169     8.27333   \n",
      "13   ...     6.042430  54.0755     61770.964925     7.95113     8.18061   \n",
      "14   ...     6.052880  53.9618     61775.246925     7.90169     8.26303   \n",
      "15   ...     6.037210  54.0013     61778.984925     7.80279     8.19091   \n",
      "16   ...     6.124350  53.9241     61782.699925     7.78301     8.31455   \n",
      "17   ...     5.985250  54.0328     61786.661925     7.93136     8.19091   \n",
      "18   ...     5.983140  53.8186     61790.512925     7.83246     8.25273   \n",
      "19   ...     3.019530  53.9915     61806.863925    10.73010    10.94180   \n",
      "\n",
      "    e2_sensor3  e2_sensor4      e2_x      e2_y     e2_f  \n",
      "0      11.2784     12.0431  0.959179 -2.009050  53.8563  \n",
      "1      11.8144     12.7529  1.017710 -1.339020  53.9508  \n",
      "2      12.1546     13.1136  0.922510 -0.943992  53.9305  \n",
      "3      12.1753     13.3580  1.059040 -0.850655  54.1366  \n",
      "4      11.8454     13.6489  1.416330 -0.793909  53.8380  \n",
      "5      11.7629     13.8234  1.681220 -0.728567  53.7850  \n",
      "6      12.0000     14.1143  1.652130 -0.461599  53.8869  \n",
      "7      11.9485     14.4983  2.038380 -0.275823  53.8843  \n",
      "8      17.9638     18.9670  0.416073  5.511630  54.0145  \n",
      "9      18.1689     19.9556  0.916362  6.147390  54.0840  \n",
      "10     18.0151     19.9454  0.974476  6.033980  54.1417  \n",
      "11     17.8408     19.9353  1.202360  5.969360  54.0446  \n",
      "12     17.8510     19.9149  1.128780  6.004030  53.9409  \n",
      "13     17.9433     19.8945  1.010130  6.032860  53.9695  \n",
      "14     17.8305     19.9149  1.134150  6.004630  53.9101  \n",
      "15     17.9638     20.1187  1.175660  6.127140  54.0762  \n",
      "16     17.8510     20.0677  1.271950  6.059610  54.0163  \n",
      "17     17.8305     19.8741  1.069700  6.014380  53.8269  \n",
      "18     17.7895     19.8945  1.174110  6.025420  53.7692  \n",
      "19     15.1237     17.1835  1.052020  2.955390  53.9791  \n",
      "\n",
      "[20 rows x 90 columns]\n"
     ]
    }
   ],
   "source": [
    "print(\"\\nThe data looks like this:\\n\",oos.head(20))"
   ]
  },
  {
   "cell_type": "code",
   "execution_count": 48,
   "metadata": {},
   "outputs": [],
   "source": [
    "start_time = user_d[\"s1\"].strip().replace(\" \",\"_\").replace(\".\",\"_\").replace(\"-\",\"_\").replace(\":\",\"_\")\n",
    "oos.to_csv(\"%s_%s_%s_clear_data_%s.csv\"%(user_d[\"name\"],user_d[\"id\"],user_d[\"cond\"],start_time),encoding=\"utf8\")\n",
    "print(\"\\nFinished. Output to %s_%s_%s_clear_data_%s.csv\\n\\n\"%(user_d[\"name\"],user_d[\"id\"],user_d[\"cond\"],start_time))\n",
    "print(\"=\"*40+\"\\n\")\n",
    "input()"
   ]
  }
 ],
 "metadata": {
  "kernelspec": {
   "display_name": "Python 3",
   "language": "python",
   "name": "python3"
  },
  "language_info": {
   "codemirror_mode": {
    "name": "ipython",
    "version": 3
   },
   "file_extension": ".py",
   "mimetype": "text/x-python",
   "name": "python",
   "nbconvert_exporter": "python",
   "pygments_lexer": "ipython3",
   "version": "3.6.4"
  }
 },
 "nbformat": 4,
 "nbformat_minor": 2
}
